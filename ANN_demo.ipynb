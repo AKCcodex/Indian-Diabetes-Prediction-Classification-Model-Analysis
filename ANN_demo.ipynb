

# Import libraries
import pandas as pd
import numpy as np
from sklearn.model_selection import train_test_split
from sklearn.preprocessing import StandardScaler
from tensorflow.keras.models import Sequential
from tensorflow.keras.layers import Dense, Dropout
from sklearn.metrics import classification_report, confusion_matrix

# Load dataset
df = pd.read_csv('indian_diabetes_dataset.csv')  # Replace with your file path

# Split features and target
X = df.drop('Outcome', axis=1)  # 'Outcome' is the target column
y = df['Outcome']

# Feature scaling
scaler = StandardScaler()
X_scaled = scaler.fit_transform(X)

# Train-test split
X_train, X_test, y_train, y_test = train_test_split(X_scaled, y, test_size=0.2, random_state=42)

# Build ANN model
model = Sequential()
model.add(Dense(16, input_dim=X_train.shape[1], activation='relu'))   # First hidden layer
model.add(Dropout(0.2))                                               # Dropout to prevent overfitting
model.add(Dense(8, activation='relu'))                                # Second hidden layer
model.add(Dense(1, activation='sigmoid'))                             # Output layer for binary classification

# Compile model
model.compile(loss='binary_crossentropy', optimizer='adam', metrics=['accuracy'])

# Train model
history = model.fit(X_train, y_train, epochs=100, batch_size=16, validation_split=0.2, verbose=0)

# Evaluate
loss, accuracy = model.evaluate(X_test, y_test)
print(f"Test Accuracy: {accuracy:.2f}")

# Predict and evaluate
y_pred = (model.predict(X_test) > 0.5).astype("int32")
print(confusion_matrix(y_test, y_pred))
print(classification_report(y_test, y_pred))
